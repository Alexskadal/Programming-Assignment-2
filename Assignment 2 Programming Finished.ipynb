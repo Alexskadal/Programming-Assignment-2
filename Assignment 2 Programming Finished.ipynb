{
 "cells": [
  {
   "cell_type": "code",
   "execution_count": 4,
   "id": "e2c95638",
   "metadata": {},
   "outputs": [
    {
     "name": "stdout",
     "output_type": "stream",
     "text": [
      "Enter a floating point number 33.3333\n"
     ]
    }
   ],
   "source": [
    "number1=float(input(\"Enter a floating point number \"))"
   ]
  },
  {
   "cell_type": "code",
   "execution_count": 3,
   "id": "0e4c29d1",
   "metadata": {},
   "outputs": [
    {
     "name": "stdout",
     "output_type": "stream",
     "text": [
      "Enter a integer number 8\n"
     ]
    }
   ],
   "source": [
    "number2=int(input(\"Enter a integer number \"))"
   ]
  },
  {
   "cell_type": "code",
   "execution_count": 5,
   "id": "d138c48e",
   "metadata": {},
   "outputs": [
    {
     "name": "stdout",
     "output_type": "stream",
     "text": [
      "sum is 41.3333\n"
     ]
    }
   ],
   "source": [
    "print(\"sum is\", number1+number2)"
   ]
  },
  {
   "cell_type": "code",
   "execution_count": 7,
   "id": "ec10e58b",
   "metadata": {},
   "outputs": [
    {
     "name": "stdout",
     "output_type": "stream",
     "text": [
      "<class 'int'>\n"
     ]
    }
   ],
   "source": [
    "print(type(number2))\n"
   ]
  },
  {
   "cell_type": "code",
   "execution_count": 11,
   "id": "374a551c",
   "metadata": {},
   "outputs": [],
   "source": [
    "diff=number1-number2"
   ]
  },
  {
   "cell_type": "code",
   "execution_count": 12,
   "id": "aef458e6",
   "metadata": {},
   "outputs": [
    {
     "name": "stdout",
     "output_type": "stream",
     "text": [
      "difference is: 25.3333\n"
     ]
    }
   ],
   "source": [
    "print(\"difference is:\", diff)"
   ]
  },
  {
   "cell_type": "code",
   "execution_count": 13,
   "id": "e27e1cde",
   "metadata": {},
   "outputs": [],
   "source": [
    "product=number1*number2"
   ]
  },
  {
   "cell_type": "code",
   "execution_count": 14,
   "id": "a067f08c",
   "metadata": {},
   "outputs": [
    {
     "name": "stdout",
     "output_type": "stream",
     "text": [
      "Product of 33.3333 and 8 is 266.6664\n"
     ]
    }
   ],
   "source": [
    "print(\"Product of {} and {} is {}\".format(number1,number2,product))"
   ]
  },
  {
   "cell_type": "code",
   "execution_count": 15,
   "id": "be92f691",
   "metadata": {},
   "outputs": [],
   "source": [
    "Quotient=number1//number2"
   ]
  },
  {
   "cell_type": "code",
   "execution_count": 18,
   "id": "183870d1",
   "metadata": {},
   "outputs": [
    {
     "name": "stdout",
     "output_type": "stream",
     "text": [
      "Quotient of 33.3333 and 8 is 4.0\n"
     ]
    }
   ],
   "source": [
    "print(\"Quotient of {} and {} is {}\".format(number1,number2,Quotient))"
   ]
  },
  {
   "cell_type": "code",
   "execution_count": 20,
   "id": "8a6ed091",
   "metadata": {},
   "outputs": [
    {
     "name": "stdout",
     "output_type": "stream",
     "text": [
      "<class 'float'>\n"
     ]
    }
   ],
   "source": [
    "print(type(number1))"
   ]
  },
  {
   "cell_type": "markdown",
   "id": "8e97dda2",
   "metadata": {},
   "source": [
    "## Programming Assignment 2, Alexander Kyrkjeeide, Version 1, Spring 2023\n",
    "  "
   ]
  }
 ],
 "metadata": {
  "kernelspec": {
   "display_name": "Python 3 (ipykernel)",
   "language": "python",
   "name": "python3"
  },
  "language_info": {
   "codemirror_mode": {
    "name": "ipython",
    "version": 3
   },
   "file_extension": ".py",
   "mimetype": "text/x-python",
   "name": "python",
   "nbconvert_exporter": "python",
   "pygments_lexer": "ipython3",
   "version": "3.9.13"
  }
 },
 "nbformat": 4,
 "nbformat_minor": 5
}
